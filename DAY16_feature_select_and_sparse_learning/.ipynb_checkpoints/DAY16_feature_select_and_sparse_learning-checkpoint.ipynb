{
 "cells": [
  {
   "cell_type": "markdown",
   "metadata": {},
   "source": [
    "# 特征选择与稀疏学习"
   ]
  },
  {
   "cell_type": "markdown",
   "metadata": {},
   "source": [
    "## 特征选择\n",
    "为什么？\n",
    "1. 维数灾难：需要选出有用信息\n",
    "1. 去除不相关特征降低学习任务的难度\n",
    "\n",
    "\n",
    "* 特征选择必须确保不丢失重要特征"
   ]
  },
  {
   "cell_type": "markdown",
   "metadata": {},
   "source": [
    "* 子集搜索\n",
    "\n",
    "给定特征集合{a1,a2,…,ad}，可将每个特征看做一个候选子集，对这d个候选单特征子集进行评价，选出一个最优的，然后加入一个特征，构成包含两个特征的候选子集…假定在k+1轮时，最后的候选（k+1）个特征子集不如上一轮的选定集，则停止生成候选子集，并将上一轮选定的k特征集合作为特征选择结果。上述这种逐渐增加相关特征的策略称为前向（forward）搜索。如果从完整的特征集合开始，每次尝试去掉一个无关特征，这样逐渐减少特征的策略称为后向（backward）搜索。也可将前后和后向搜索结合起来，每一轮逐渐增加选定相关特征、同时减少无关特征，这样的策略称为双向（bidirectional）搜索。"
   ]
  },
  {
   "cell_type": "markdown",
   "metadata": {},
   "source": [
    "* 子集评价\n",
    "\n",
    "定数据集D，假定D中第i类样本所占的比例为pi(i=1,2,…,|y|)，假定样本属性均为离散型。对属性子集A，假定根据其取值将D分成了V个子集{D1,D2,…,DV}，每个子集中的样本在A上取值相同，计算属性子集A的信息增益，信息增益Gain(A)越大，意味着特征子集A包含的欧主语分类的信息越多。如此，对每个候选特征子集，可基于训练数据集D来计算其信息增益，以此作为评价准则。\n",
    "\n",
    "更一般的，特征子集A实际上确定了对数据集D的一个划分，每个划分区域对应着A上的一个取值，而样本标记信息y则对应对D的真实划分，通过估算这两个划分的差异，就能对A进行评价。与y对应的划分的差异越小，则说明A越好。信息熵仅是判断这个差异的一个途径，其他能判断两个划分差异的机制都能用于特征子集评价。"
   ]
  },
  {
   "cell_type": "markdown",
   "metadata": {},
   "source": [
    "<font color=DarkMagenta>常见的特征选择方法大致可分三类：过滤式（filter）、包裹式（wrapper）和嵌入（embedding）。</font>"
   ]
  },
  {
   "cell_type": "markdown",
   "metadata": {},
   "source": [
    "### 过滤式选择\n",
    "**过滤式方法**先对数据集进行特征选择，然后再训练学习器，特征选择过程与后续学习器无关。先用特征选择过程对初始特征进行过滤，再用过滤后的特征训练模型。"
   ]
  },
  {
   "cell_type": "markdown",
   "metadata": {},
   "source": [
    "#### Relief算法\n",
    "* Relief是一种著名的过滤式特征选择方法，该方法设计了一个相关统计量来度量特征的重要性。该统计量是一个向量，其每个分量对应于一个初始特征，而特征子集的重要性则是由子集中每个特征所对应的相关统计量分量之和决定。指定一个阈值，选择比阈值大的相关统计量分量所对应的特征即可；也可指定要选择的特征个数k，然后选择相关统计量分量最大的k个特征。\n",
    "* Relief的关键是如何确定相关统计量。给定训练集{(x1,y1),(x2,y2),…,(xm,ym)}，对每个示例xi，Relief先在xi的同类样本中寻找其最近邻xi,nh，称为猜中近邻（near-hit）；再从xi的异类样本中寻找其最近邻xi,nm，称为猜错近邻（near-miss）；相关统计量对应于属性j的分量为：\n",
    "![](img/1.png)"
   ]
  },
  {
   "cell_type": "markdown",
   "metadata": {},
   "source": [
    "#### Relief算法实现和使用"
   ]
  },
  {
   "cell_type": "code",
   "execution_count": 7,
   "metadata": {},
   "outputs": [],
   "source": [
    "import numpy as np\n",
    "from random import randrange\n",
    " \n",
    "from sklearn.datasets import make_classification\n",
    "from sklearn.preprocessing import normalize"
   ]
  },
  {
   "cell_type": "code",
   "execution_count": 8,
   "metadata": {},
   "outputs": [],
   "source": [
    "def distanceNorm(Norm,D_value):\n",
    "    # initialization\n",
    "\n",
    "\n",
    "    # Norm for distance\n",
    "    if Norm == '1':\n",
    "        counter = np.absolute(D_value);\n",
    "        counter = np.sum(counter);\n",
    "    elif Norm == '2':\n",
    "        counter = np.power(D_value,2);\n",
    "        counter = np.sum(counter);\n",
    "        counter = np.sqrt(counter);\n",
    "    elif Norm == 'Infinity':\n",
    "        counter = np.absolute(D_value);\n",
    "        counter = np.max(counter);\n",
    "    else:\n",
    "        raise Exception('We will program this later......');\n",
    "\n",
    "    return counter;\n"
   ]
  },
  {
   "cell_type": "code",
   "execution_count": 14,
   "metadata": {},
   "outputs": [],
   "source": [
    "def fit(features,labels,iter_ratio):\n",
    "    # initialization\n",
    "    (n_samples,n_features) = np.shape(features);\n",
    "    distance = np.zeros((n_samples,n_samples));\n",
    "    weight = np.zeros(n_features);\n",
    "\n",
    "\n",
    "    if iter_ratio >= 0.5:\n",
    "        # compute distance\n",
    "        for index_i in range(n_samples):\n",
    "            for index_j in range(index_i+1,n_samples):\n",
    "                D_value = features[index_i] - features[index_j];\n",
    "                distance[index_i,index_j] = distanceNorm('2',D_value);\n",
    "        distance += distance.T;\n",
    "    else:\n",
    "        pass;\n",
    " \n",
    "\n",
    "    # start iteration\n",
    "    for iter_num in range(int(iter_ratio*n_samples)):\n",
    "        # print iter_num;\n",
    "        # initialization\n",
    "        nearHit = list();\n",
    "        nearMiss = list();\n",
    "        distance_sort = list();\n",
    "\n",
    "        # random extract a sample\n",
    "        index_i = randrange(0,n_samples,1);\n",
    "        self_features = features[index_i];\n",
    "\n",
    "        # search for nearHit and nearMiss\n",
    "        if iter_ratio >= 0.5:\n",
    "            distance[index_i,index_i] = np.max(distance[index_i]);\t\t# filter self-distance \n",
    "            for index in range(n_samples):\n",
    "                distance_sort.append([distance[index_i,index],index,labels[index]]);\n",
    "        else:\n",
    "            # compute distance respectively\n",
    "            distance = np.zeros(n_samples);\n",
    "            for index_j in range(n_samples):\n",
    "                D_value = features[index_i] - features[index_j];\n",
    "                distance[index_j] = distanceNorm('2',D_value);\n",
    "            distance[index_i] = np.max(distance);\t\t# filter self-distance \n",
    "            for index in range(n_samples):\n",
    "                distance_sort.append([distance[index],index,labels[index]]);\n",
    "        distance_sort.sort(key = lambda x:x[0]);\n",
    "        for index in range(n_samples):\n",
    "            if nearHit == [] and distance_sort[index][2] == labels[index_i]:\n",
    "                # nearHit = distance_sort[index][1];\n",
    "                nearHit = features[distance_sort[index][1]];\n",
    "            elif nearMiss == [] and distance_sort[index][2] != labels[index_i]:\n",
    "                # nearMiss = distance_sort[index][1]\n",
    "                nearMiss = features[distance_sort[index][1]];\n",
    "            elif nearHit != [] and nearMiss != []:\n",
    "                break;\n",
    "            else:\n",
    "                continue;\n",
    "\n",
    "        # update weight\n",
    "        weight = weight - np.power(self_features - nearHit,2) + np.power(self_features - nearMiss,2);\n",
    "    print (weight/(iter_ratio*n_samples))\n",
    "    return (weight/(iter_ratio*n_samples))\n"
   ]
  },
  {
   "cell_type": "code",
   "execution_count": 15,
   "metadata": {},
   "outputs": [],
   "source": [
    "def test():\n",
    "    (features, labels) = make_classification(n_samples = 500);\n",
    "    features = normalize(X = features, norm = 'l2', axis = 0);\n",
    "    for x in range(1,10):\n",
    "        weight = fit(features,labels,1)"
   ]
  },
  {
   "cell_type": "code",
   "execution_count": 16,
   "metadata": {
    "scrolled": true
   },
   "outputs": [
    {
     "name": "stderr",
     "output_type": "stream",
     "text": [
      "c:\\users\\adsss\\anaconda3\\lib\\site-packages\\ipykernel_launcher.py:47: DeprecationWarning: elementwise == comparison failed; this will raise an error in the future.\n",
      "c:\\users\\adsss\\anaconda3\\lib\\site-packages\\ipykernel_launcher.py:53: DeprecationWarning: elementwise != comparison failed; this will raise an error in the future.\n",
      "c:\\users\\adsss\\anaconda3\\lib\\site-packages\\ipykernel_launcher.py:50: DeprecationWarning: elementwise == comparison failed; this will raise an error in the future.\n"
     ]
    },
    {
     "name": "stdout",
     "output_type": "stream",
     "text": [
      "[-1.25576028e-04 -2.26263740e-04  2.09818310e-05  3.58703084e-05\n",
      "  1.63494343e-04 -3.53866649e-04 -2.15807059e-04  2.75751681e-04\n",
      " -1.03846834e-04 -3.14324576e-05  1.74789716e-04 -3.62255522e-04\n",
      "  3.20874350e-04  1.94968278e-04  7.16120336e-04  3.51248917e-04\n",
      "  2.85531340e-04  1.89566115e-04 -2.65279073e-04  3.85455787e-03]\n",
      "[-7.93114937e-05 -1.08609646e-04 -2.04657512e-04  3.83766290e-05\n",
      "  1.61855489e-04  1.17838119e-04  2.72129621e-05 -1.93559185e-04\n",
      " -1.67626705e-04  9.70444806e-05  2.54740323e-06 -2.47951522e-04\n",
      "  3.92869391e-04  4.73046996e-05  7.17238905e-04  1.97793263e-04\n",
      "  3.45536309e-04  1.66450091e-04 -4.07089873e-04  3.98380033e-03]\n",
      "[-2.50558784e-04 -8.26909016e-05 -1.02728381e-06 -1.01212301e-04\n",
      " -1.54503553e-04 -1.70369809e-04 -2.65506723e-04  2.04148434e-04\n",
      "  9.61439263e-05  1.21754680e-04  6.55319731e-05 -2.25663131e-04\n",
      "  2.65847945e-04  2.88147583e-04  6.92581472e-04  2.54088584e-04\n",
      "  2.38744502e-04  2.08627175e-04 -2.69870531e-04  3.66429085e-03]\n",
      "[-1.35745811e-04  2.08622283e-04  2.73852251e-05  2.21196178e-05\n",
      "  3.70617486e-05 -1.69122908e-04 -2.66973252e-04 -4.05161385e-05\n",
      " -1.32283188e-05  5.68870097e-04  1.23906852e-04 -2.96869169e-04\n",
      "  2.51015095e-04  1.88218038e-04  6.47438864e-04  6.65359187e-05\n",
      "  2.18627427e-04  1.99704013e-04  1.46968149e-05  3.67984910e-03]\n",
      "[-1.37883354e-04 -1.31811629e-04 -6.06595171e-05 -1.32895152e-04\n",
      "  1.34517788e-04  1.42459638e-04 -1.94402778e-04 -1.72974347e-04\n",
      " -8.81794008e-05  9.05218930e-05  2.37539393e-04 -1.22226481e-04\n",
      "  2.67888480e-04  8.17467077e-05  6.36544181e-04  2.81988936e-04\n",
      "  2.35079619e-04  8.68750924e-05 -3.61628511e-04  3.55794509e-03]\n",
      "[ 1.46339627e-05 -1.05450251e-04 -7.46482609e-05 -1.90159377e-04\n",
      "  1.03022425e-04 -2.08624350e-04 -1.16423150e-04  7.36526866e-05\n",
      " -9.35690060e-05  1.13590611e-04  2.66315223e-05  1.27951969e-04\n",
      "  2.96853881e-04  1.75658735e-04  6.22612660e-04  2.39336808e-04\n",
      "  2.59057999e-04  4.14555268e-04 -2.84244826e-04  3.53599305e-03]\n",
      "[-2.93656156e-04 -1.03363619e-04  2.14936235e-05 -2.55520486e-04\n",
      "  1.22890823e-04 -1.58528658e-04 -2.25404785e-04  2.95733536e-04\n",
      "  3.38842636e-05  1.84867527e-04 -2.22624616e-05  9.90202198e-05\n",
      "  2.45643645e-04  5.48797075e-05  7.59771245e-04  1.84783510e-05\n",
      "  2.25312757e-04  2.53162646e-04 -2.86062484e-04  3.87552228e-03]\n",
      "[-3.00935822e-04 -2.11601510e-04 -1.20776501e-04 -1.11176760e-04\n",
      "  2.13077559e-04 -1.67493947e-04  7.87359458e-05  1.41163906e-05\n",
      " -2.04780656e-04  2.77714663e-04  9.38955637e-05  1.48691653e-04\n",
      "  2.21344959e-04  3.25300578e-04  6.16922768e-04  2.27729128e-04\n",
      "  1.81939367e-04  2.28769280e-04 -3.87976687e-04  3.91002606e-03]\n",
      "[-1.02395724e-04 -9.08364977e-05  4.88246477e-06  1.00990021e-04\n",
      "  2.68369307e-04  7.90692469e-05 -1.92559612e-04  2.53786540e-05\n",
      " -1.03439540e-04  7.19789086e-07  3.27397031e-04 -1.42549562e-04\n",
      "  2.86246919e-04  1.35881036e-04  5.50603832e-04  2.28357562e-04\n",
      "  2.33966283e-04  2.43901838e-04 -1.40879952e-04  3.72944616e-03]\n"
     ]
    }
   ],
   "source": [
    "test()"
   ]
  },
  {
   "cell_type": "markdown",
   "metadata": {},
   "source": [
    "### 包裹式选择\n",
    "* 和过滤式特征选择不考虑后续学习器不同，包裹式特征选择直接把最终将要使用的学习器性能作为特征子集的评价准则。换言之，包裹式特征选择的目的就是为给定学习器选择最有利于其性能、量身定做的特征子集。一般而言，包裹式特征选择方法直接针对给定学习器进行优化，从最终学习器性能来说，包裹式特征选择比过滤式特征选择更好，但由于在特征选择过程中要多次训练学习器，其计算开销也比过滤式特征选大很多。"
   ]
  },
  {
   "cell_type": "markdown",
   "metadata": {},
   "source": [
    "#### LVW算法\n",
    "* LVW(LasVegas Wrapper)是一个典型的包裹式特征选择方法，它在拉斯维加斯方法框架下随用随机策略进行子集搜索，并以最终分类器的误差为特征子集评价准则。算法描述如下：\n",
    "\n",
    "输入：数据集D；\n",
    "\n",
    "      特征集A；\n",
    "\n",
    "      学习算法Σ；\n",
    "\n",
    "      停止条件控制参数T。\n",
    "\n",
    "过程：\n",
    "\n",
    "      E=∞；//初始误差无穷大\n",
    "\n",
    "      D=|A|；\n",
    "\n",
    "      A*=A；\n",
    "\n",
    "      t=0；\n",
    "\n",
    "      while t<T do\n",
    "\n",
    "          随机产生特征子集A’；\n",
    "\n",
    "          d’=|A’|；\n",
    "\n",
    "          E’=CrossValidation(Σ(DA’))；//在特征子集A’上通过交叉验证估计学习器误差\n",
    "\n",
    "          if (E’<E)  或 ((E’=E) 与（d’<d）) then //误差小于原来的，更新\n",
    "\n",
    "              t=0;\n",
    "\n",
    "              E=E’;\n",
    "\n",
    "              d=d’;\n",
    "\n",
    "              A*=A’;\n",
    "\n",
    "          else t=t+1;\n",
    "\n",
    "          end if\n",
    "\n",
    "      end while\n",
    "\n",
    "输出：特征子集A*"
   ]
  },
  {
   "cell_type": "markdown",
   "metadata": {},
   "source": [
    "### 嵌入式选择\n",
    "在过滤式和包裹式特征选择方法中，特征选择过程与学习器训练过程有明显的分别；与此不同，嵌入式特征选择是将特征选择过程与学习器训练过程融为一体，两者在同一个优化过程中完成，即在学习器训练过程中自动地进行了特征选择。\n",
    "\n",
    "用特征子集评价与学习器训练的前后关系来来说，过滤式是在学习器训练前完成特征子集选择和评价；包裹式是在学习器训练后评价特征子集从而选择特征；嵌入式则是在学习器训练过程中同步评价并选择特征子集。"
   ]
  },
  {
   "cell_type": "markdown",
   "metadata": {},
   "source": [
    "#### [LASSO算法](http://python.jobbole.com/88799/)"
   ]
  },
  {
   "cell_type": "markdown",
   "metadata": {},
   "source": [
    "![](img/2.png)\n",
    "图中，红色的线存在明显的过拟合，绿色的线才是合理的拟合曲线，为了避免过拟合，我们可以引入正则化。\n",
    "\n",
    "下面可以利用正则化来解决曲线拟合过程中的过拟合发生，存在均方根误差也叫标准误差，即为$√[∑di^2/n]=Re$，n为测量次数；di为一组测量值与真值的偏差。\n",
    "\n",
    "![](img/3.png)\n",
    "**LASSO的主要思想:**是构造一个一阶惩罚函数获得一个精炼的模型, 通过最终确定一些变量的系数为0进行特征筛选。\n",
    "\n",
    "**LASSO的几何解释:**同样以两个变量为例，标准线性回归的cost function还是可以用二维平面的等值线表示，而约束条件则与岭回归的圆不同，LASSO的约束条件可以用方形表示，如下图:\n",
    "![](img/4.png)\n",
    "相比圆，方形的顶点更容易与抛物面相交，顶点就意味着对应的很多系数为0，而岭回归中的圆上的任意一点都很容易与抛物面相交很难得到正好等于0的系数。这也就意味着，lasso起到了很好的筛选变量的作用。"
   ]
  },
  {
   "cell_type": "markdown",
   "metadata": {},
   "source": [
    "#### LASSO算法实现和使用"
   ]
  },
  {
   "cell_type": "code",
   "execution_count": 18,
   "metadata": {},
   "outputs": [],
   "source": [
    "import itertools\n",
    "from math import exp\n",
    "\n",
    "import numpy as np\n",
    "import matplotlib.pyplot as plt\n",
    "\n",
    "%matplotlib inline"
   ]
  },
  {
   "cell_type": "code",
   "execution_count": 19,
   "metadata": {},
   "outputs": [],
   "source": [
    "def load_data(filename):\n",
    "    ''' 加载数据\n",
    "    '''\n",
    "    X, Y = [], []\n",
    "    with open(filename, 'r') as f:\n",
    "        for line in f:\n",
    "            splited_line = [float(i) for i in line.split()]\n",
    "            x, y = splited_line[: -1], splited_line[-1]\n",
    "            X.append(x)\n",
    "            Y.append(y)\n",
    "    X, Y = np.matrix(X), np.matrix(Y).T\n",
    "    return X, Y\n",
    "\n",
    "def standarize(X):\n",
    "    ''' 中心化 & 标准化数据 (零均值, 单位标准差)\n",
    "    '''\n",
    "    std_deviation = np.std(X, 0)\n",
    "    mean = np.mean(X, 0)\n",
    "    return (X - mean)/std_deviation\n",
    "\n",
    "def std_linreg(X, Y):\n",
    "    xTx = X.T*X\n",
    "    if np.linalg.det(xTx) == 0:\n",
    "        print('xTx is a singular matrix')\n",
    "        return\n",
    "    return xTx.I*X.T*Y\n",
    "\n",
    "def get_corrcoef(X, Y):\n",
    "    # X Y 的协方差\n",
    "    cov = np.mean(X*Y) - np.mean(X)*np.mean(Y)\n",
    "    return cov/(np.var(X)*np.var(Y))**0.5"
   ]
  },
  {
   "cell_type": "code",
   "execution_count": 20,
   "metadata": {},
   "outputs": [],
   "source": [
    "def lasso_regression(X, y, lambd=0.2, threshold=0.1):\n",
    "    ''' 通过坐标下降(coordinate descent)法获取LASSO回归系数\n",
    "    '''\n",
    "    # 计算残差平方和\n",
    "    rss = lambda X, y, w: (y - X*w).T*(y - X*w)\n",
    "\n",
    "    # 初始化回归系数w.\n",
    "    m, n = X.shape\n",
    "    w = np.matrix(np.zeros((n, 1)))\n",
    "    r = rss(X, y, w)\n",
    "\n",
    "    # 使用坐标下降法优化回归系数w\n",
    "    niter = itertools.count(1)\n",
    "\n",
    "    for it in niter:\n",
    "        for k in range(n):\n",
    "            # 计算常量值z_k和p_k\n",
    "            z_k = (X[:, k].T*X[:, k])[0, 0]\n",
    "            p_k = 0\n",
    "            for i in range(m):\n",
    "                p_k += X[i, k]*(y[i, 0] - sum([X[i, j]*w[j, 0] for j in range(n) if j != k]))\n",
    "\n",
    "            if p_k < -lambd/2:\n",
    "                w_k = (p_k + lambd/2)/z_k\n",
    "            elif p_k > lambd/2:\n",
    "                w_k = (p_k - lambd/2)/z_k\n",
    "            else:\n",
    "                w_k = 0\n",
    "\n",
    "            w[k, 0] = w_k\n",
    "\n",
    "        r_prime = rss(X, y, w)\n",
    "        delta = abs(r_prime - r)[0, 0]\n",
    "        r = r_prime\n",
    "        #print('Iteration: {}, delta = {}'.format(it, delta))\n",
    "\n",
    "        if delta < threshold:\n",
    "            break\n",
    "\n",
    "    return w"
   ]
  },
  {
   "cell_type": "code",
   "execution_count": 21,
   "metadata": {},
   "outputs": [],
   "source": [
    "def lasso_traj(X, y, ntest=30):\n",
    "    ''' 获取回归系数轨迹矩阵\n",
    "    '''\n",
    "    _, n = X.shape\n",
    "    ws = np.zeros((ntest, n))\n",
    "    for i in range(ntest):\n",
    "        w = lasso_regression(X, y, lambd=exp(i-10))\n",
    "        ws[i, :] = w.T\n",
    "        print('lambda = e^({}), w = {}'.format(i-10, w.T[0, :]))\n",
    "    return ws"
   ]
  },
  {
   "cell_type": "code",
   "execution_count": 22,
   "metadata": {},
   "outputs": [],
   "source": [
    "X, y = load_data('data/abalone.txt')\n",
    "X, y = standarize(X), standarize(y)"
   ]
  },
  {
   "cell_type": "code",
   "execution_count": 27,
   "metadata": {},
   "outputs": [
    {
     "name": "stdout",
     "output_type": "stream",
     "text": [
      "Correlation coefficient: 0.7255254877587122\n"
     ]
    }
   ],
   "source": [
    "w = lasso_regression(X, y, lambd=10)\n",
    "\n",
    "y_prime = X*w\n",
    "# 计算相关系数\n",
    "corrcoef = get_corrcoef(np.array(y.reshape(1, -1)),\n",
    "                       np.array(y_prime.reshape(1, -1)))\n",
    "print('Correlation coefficient: {}'.format(corrcoef))"
   ]
  },
  {
   "cell_type": "code",
   "execution_count": 26,
   "metadata": {},
   "outputs": [
    {
     "name": "stdout",
     "output_type": "stream",
     "text": [
      "lambda = e^(-10), w = [[ 0.01660577 -0.0477072   0.41365826  0.15553501  1.11561007 -1.28671007\n",
      "  -0.26342221  0.47832296]]\n",
      "lambda = e^(-9), w = [[ 0.01660576 -0.04770667  0.41365771  0.15553499  1.11560914 -1.28670963\n",
      "  -0.26342191  0.47832323]]\n",
      "lambda = e^(-8), w = [[ 0.01660572 -0.04770526  0.41365621  0.15553496  1.11560659 -1.28670843\n",
      "  -0.2634211   0.47832395]]\n",
      "lambda = e^(-7), w = [[ 0.01660563 -0.04770141  0.41365214  0.15553486  1.11559967 -1.28670516\n",
      "  -0.26341888  0.4783259 ]]\n",
      "lambda = e^(-6), w = [[ 0.01660536 -0.04769094  0.41364108  0.1555346   1.11558085 -1.28669629\n",
      "  -0.26341285  0.47833122]]\n",
      "lambda = e^(-5), w = [[ 0.01660465 -0.04766249  0.41361102  0.15553388  1.11552969 -1.28667218\n",
      "  -0.26339646  0.47834566]]\n",
      "lambda = e^(-4), w = [[ 0.0166027  -0.04758516  0.41352929  0.15553192  1.11539062 -1.28660663\n",
      "  -0.2633519   0.47838494]]\n",
      "lambda = e^(-3), w = [[ 0.01659742 -0.04737496  0.41330714  0.1555266   1.1150126  -1.28642845\n",
      "  -0.26323077  0.47849169]]\n",
      "lambda = e^(-2), w = [[ 0.01658305 -0.04680356  0.41270328  0.15551213  1.11398503 -1.2859441\n",
      "  -0.26290153  0.47878188]]\n",
      "lambda = e^(-1), w = [[ 0.01653884 -0.04549953  0.41113634  0.15545032  1.11529733 -1.28616464\n",
      "  -0.26296376  0.47804841]]\n",
      "lambda = e^(0), w = [[ 0.0164328  -0.04121551  0.4066233   0.15534385  1.10760417 -1.2825516\n",
      "  -0.2605118   0.48023131]]\n",
      "lambda = e^(1), w = [[ 0.01613973 -0.02951034  0.39416606  0.1550324   1.09055472 -1.27419467\n",
      "  -0.25476964  0.4847405 ]]\n",
      "lambda = e^(2), w = [[ 0.0153508   0.          0.36263561  0.15424449  1.03915517 -1.24943788\n",
      "  -0.23788783  0.49878292]]\n",
      "lambda = e^(3), w = [[ 0.01325127  0.          0.35059049  0.15288981  0.88507194 -1.17206133\n",
      "  -0.18460861  0.53975315]]\n",
      "lambda = e^(4), w = [[ 0.00765438  0.          0.32095796  0.14970101  0.37822709 -0.92846213\n",
      "  -0.01885195  0.68362244]]\n",
      "lambda = e^(5), w = [[ 0.          0.          0.26279139  0.14535091  0.         -0.60187314\n",
      "   0.          0.78431832]]\n",
      "lambda = e^(6), w = [[ 0.          0.          0.07663304  0.12601456  0.         -0.25525521\n",
      "   0.          0.63220029]]\n",
      "lambda = e^(7), w = [[0.         0.         0.         0.06282233 0.         0.\n",
      "  0.         0.44495654]]\n",
      "lambda = e^(8), w = [[0.         0.         0.         0.         0.         0.\n",
      "  0.         0.27074402]]\n",
      "lambda = e^(9), w = [[0. 0. 0. 0. 0. 0. 0. 0.]]\n",
      "lambda = e^(10), w = [[0. 0. 0. 0. 0. 0. 0. 0.]]\n",
      "lambda = e^(11), w = [[0. 0. 0. 0. 0. 0. 0. 0.]]\n",
      "lambda = e^(12), w = [[0. 0. 0. 0. 0. 0. 0. 0.]]\n",
      "lambda = e^(13), w = [[0. 0. 0. 0. 0. 0. 0. 0.]]\n",
      "lambda = e^(14), w = [[0. 0. 0. 0. 0. 0. 0. 0.]]\n",
      "lambda = e^(15), w = [[0. 0. 0. 0. 0. 0. 0. 0.]]\n",
      "lambda = e^(16), w = [[0. 0. 0. 0. 0. 0. 0. 0.]]\n",
      "lambda = e^(17), w = [[0. 0. 0. 0. 0. 0. 0. 0.]]\n",
      "lambda = e^(18), w = [[0. 0. 0. 0. 0. 0. 0. 0.]]\n",
      "lambda = e^(19), w = [[0. 0. 0. 0. 0. 0. 0. 0.]]\n"
     ]
    },
    {
     "data": {
      "image/png": "[encoded data removed]",
      "text/plain": [
       "<Figure size 432x288 with 1 Axes>"
      ]
     },
     "metadata": {},
     "output_type": "display_data"
    }
   ],
   "source": [
    "ntest = 30\n",
    "\n",
    "# 绘制轨迹\n",
    "ws = lasso_traj(X, y, ntest)\n",
    "fig = plt.figure()\n",
    "ax = fig.add_subplot(111)\n",
    "\n",
    "lambdas = [i-10 for i in range(ntest)]\n",
    "ax.plot(lambdas, ws)\n",
    "\n",
    "plt.show()"
   ]
  },
  {
   "cell_type": "markdown",
   "metadata": {},
   "source": [
    "## 稀疏学习\n",
    "* 把数据集D看成一个矩阵，每行对应一个样本，每列对应一个特征。特征选择所考虑的问题是特征具有稀疏性，即矩阵中的许多列与当前学习任务无关，通过特征选择去除这些列，则学习器训练过程仅需在叫小的矩阵上进行，学习任务的难度可能有所降低，设计的计算和存储开销会减少，学得模型的可解释性也会提高。\n",
    "* 对于稀疏性，还存在一种情况是：D所对应的矩阵中存在很多零元素，这些零元素不是整行或整列存在。这和直接去掉其中一个或若干个列的稀疏性不一样，直接去除整列，是做了无关性特征剔除，不管样本是否在这个特征上是否为零。这种存在零元素情况的矩阵，在学习任务中有不少，如文档分类任务，将每个文档看做一个样本，每个字或词作为一个特征，字或词在文档中出现的频率或次数作为特征的取值；"
   ]
  },
  {
   "cell_type": "markdown",
   "metadata": {},
   "source": [
    "### [字典学习](https://blog.csdn.net/baidu_38060633/article/details/70338345#三字典学习及应用dictionary-learning)\n",
    "* 需要通过学习一个字典。为普通稠密表达的样本找到合适的字典，将样本转化为合适的稀疏表示形式，从而使学习任务得以简化，模型复杂度得以降低，称为字典学习（dictionary learning），也称稀疏编码（sparse coding）。实际上，字典学习侧重于学得字典的过程，而稀疏编码则侧重于对样本进行稀疏表达的过程；不过二者在同一优化求解过程中完成，因此不做区分。下面是说明字典学习。\n",
    "![](img/5.png)"
   ]
  },
  {
   "cell_type": "markdown",
   "metadata": {},
   "source": [
    "求解字典学习最优化问题的步骤为 \n",
    "1. 初始化字典D优化稀疏采样W。 \n",
    "2. 在优化后的W上更新字典D。 \n",
    "1. 重复上述两步，求得最终D以及X的稀疏表示W。"
   ]
  },
  {
   "cell_type": "markdown",
   "metadata": {},
   "source": [
    "### [KSVD算法原理和实现](http://www.cnblogs.com/theonegis/p/7791455.html)"
   ]
  },
  {
   "cell_type": "markdown",
   "metadata": {},
   "source": [
    "* K-SVD的求解是一个迭代过程。首先，假设字典D是固定的，用MP、OMP、BP等算法，可以得到字典D上，Y的稀疏表示的系数系矩阵X，然后让X固定，根据X更新字典D,如此循环直到收敛为止。"
   ]
  },
  {
   "cell_type": "code",
   "execution_count": 28,
   "metadata": {},
   "outputs": [],
   "source": [
    "import numpy as np\n",
    "from sklearn import linear_model\n",
    "import scipy.misc\n",
    "from matplotlib import pyplot as plt"
   ]
  },
  {
   "cell_type": "code",
   "execution_count": 29,
   "metadata": {},
   "outputs": [],
   "source": [
    "class KSVD(object):\n",
    "    def __init__(self, n_components, max_iter=30, tol=1e-6,\n",
    "                 n_nonzero_coefs=None):\n",
    "        \"\"\"\n",
    "        稀疏模型Y = DX，Y为样本矩阵，使用KSVD动态更新字典矩阵D和稀疏矩阵X\n",
    "        :param n_components: 字典所含原子个数（字典的列数）\n",
    "        :param max_iter: 最大迭代次数\n",
    "        :param tol: 稀疏表示结果的容差\n",
    "        :param n_nonzero_coefs: 稀疏度\n",
    "        \"\"\"\n",
    "        self.dictionary = None\n",
    "        self.sparsecode = None\n",
    "        self.max_iter = max_iter\n",
    "        self.tol = tol\n",
    "        self.n_components = n_components\n",
    "        self.n_nonzero_coefs = n_nonzero_coefs\n",
    "\n",
    "    def _initialize(self, y):\n",
    "        \"\"\"\n",
    "        初始化字典矩阵\n",
    "        \"\"\"\n",
    "        u, s, v = np.linalg.svd(y)\n",
    "        self.dictionary = u[:, :self.n_components]\n",
    "\n",
    "    def _update_dict(self, y, d, x):\n",
    "        \"\"\"\n",
    "        使用KSVD更新字典的过程\n",
    "        \"\"\"\n",
    "        for i in range(self.n_components):\n",
    "            index = np.nonzero(x[i, :])[0]\n",
    "            if len(index) == 0:\n",
    "                continue\n",
    "\n",
    "            d[:, i] = 0\n",
    "            r = (y - np.dot(d, x))[:, index]\n",
    "            u, s, v = np.linalg.svd(r, full_matrices=False)\n",
    "            d[:, i] = u[:, 0].T\n",
    "            x[i, index] = s[0] * v[0, :]\n",
    "        return d, x\n",
    "\n",
    "    def fit(self, y):\n",
    "        \"\"\"\n",
    "        KSVD迭代过程\n",
    "        \"\"\"\n",
    "        self._initialize(y)\n",
    "        for i in range(self.max_iter):\n",
    "            x = linear_model.orthogonal_mp(self.dictionary, y, n_nonzero_coefs=self.n_nonzero_coefs)\n",
    "            e = np.linalg.norm(y - np.dot(self.dictionary, x))\n",
    "            if e < self.tol:\n",
    "                break\n",
    "            self._update_dict(y, self.dictionary, x)\n",
    "\n",
    "        self.sparsecode = linear_model.orthogonal_mp(self.dictionary, y, n_nonzero_coefs=self.n_nonzero_coefs)\n",
    "        return self.dictionary, self.sparsecode"
   ]
  },
  {
   "cell_type": "code",
   "execution_count": 30,
   "metadata": {},
   "outputs": [
    {
     "data": {
      "image/png": "[encoded data removed]",
      "text/plain": [
       "<Figure size 432x288 with 2 Axes>"
      ]
     },
     "metadata": {},
     "output_type": "display_data"
    }
   ],
   "source": [
    "im_ascent = scipy.misc.ascent().astype(np.float)\n",
    "ksvd = KSVD(300)\n",
    "dictionary, sparsecode = ksvd.fit(im_ascent)\n",
    "plt.figure()\n",
    "plt.subplot(1, 2, 1)\n",
    "plt.imshow(im_ascent)\n",
    "plt.subplot(1, 2, 2)\n",
    "plt.imshow(dictionary.dot(sparsecode))\n",
    "plt.show()"
   ]
  },
  {
   "cell_type": "markdown",
   "metadata": {},
   "source": [
    "### [压缩感知](https://zhuanlan.zhihu.com/p/22445302)\n",
    "* 压缩感知，又称压缩采样，压缩传感。它作为一个新的采样理论，它通过开发信号的稀疏特性，在远小于Nyquist 采样率的条件下，用随机采样获取信号的离散样本，然后通过非线性重建算法完美的重建信号。压缩感知理论一经提出，就引起学术界和工业界的广泛关注。它在信息论、图像处理、地球科学、光学、微波成像、模式识别、无线通信、大气、地质等领域受到高度关注，并被美国科技评论评为2007年度十大科技进展。"
   ]
  },
  {
   "cell_type": "markdown",
   "metadata": {},
   "source": [
    "**在这里推荐：形象易懂讲解算法II——压缩感知  https://zhuanlan.zhihu.com/p/22445302**\n",
    "其余的不想说了。"
   ]
  },
  {
   "cell_type": "code",
   "execution_count": null,
   "metadata": {},
   "outputs": [],
   "source": []
  },
  {
   "cell_type": "code",
   "execution_count": null,
   "metadata": {},
   "outputs": [],
   "source": []
  },
  {
   "cell_type": "code",
   "execution_count": null,
   "metadata": {},
   "outputs": [],
   "source": []
  },
  {
   "cell_type": "code",
   "execution_count": null,
   "metadata": {},
   "outputs": [],
   "source": []
  },
  {
   "cell_type": "code",
   "execution_count": null,
   "metadata": {},
   "outputs": [],
   "source": []
  },
  {
   "cell_type": "code",
   "execution_count": null,
   "metadata": {},
   "outputs": [],
   "source": []
  },
  {
   "cell_type": "code",
   "execution_count": null,
   "metadata": {},
   "outputs": [],
   "source": []
  },
  {
   "cell_type": "code",
   "execution_count": null,
   "metadata": {},
   "outputs": [],
   "source": []
  },
  {
   "cell_type": "code",
   "execution_count": null,
   "metadata": {},
   "outputs": [],
   "source": []
  },
  {
   "cell_type": "code",
   "execution_count": null,
   "metadata": {},
   "outputs": [],
   "source": []
  },
  {
   "cell_type": "code",
   "execution_count": null,
   "metadata": {},
   "outputs": [],
   "source": []
  },
  {
   "cell_type": "code",
   "execution_count": null,
   "metadata": {},
   "outputs": [],
   "source": []
  },
  {
   "cell_type": "code",
   "execution_count": null,
   "metadata": {},
   "outputs": [],
   "source": []
  },
  {
   "cell_type": "code",
   "execution_count": null,
   "metadata": {},
   "outputs": [],
   "source": []
  },
  {
   "cell_type": "code",
   "execution_count": null,
   "metadata": {},
   "outputs": [],
   "source": []
  },
  {
   "cell_type": "code",
   "execution_count": null,
   "metadata": {},
   "outputs": [],
   "source": []
  },
  {
   "cell_type": "code",
   "execution_count": null,
   "metadata": {},
   "outputs": [],
   "source": []
  },
  {
   "cell_type": "code",
   "execution_count": null,
   "metadata": {},
   "outputs": [],
   "source": []
  },
  {
   "cell_type": "code",
   "execution_count": null,
   "metadata": {},
   "outputs": [],
   "source": []
  }
 ],
 "metadata": {
  "kernelspec": {
   "display_name": "Python 3",
   "language": "python",
   "name": "python3"
  },
  "language_info": {
   "codemirror_mode": {
    "name": "ipython",
    "version": 3
   },
   "file_extension": ".py",
   "mimetype": "text/x-python",
   "name": "python",
   "nbconvert_exporter": "python",
   "pygments_lexer": "ipython3",
   "version": "3.6.3"
  },
  "toc": {
   "base_numbering": 1,
   "nav_menu": {},
   "number_sections": true,
   "sideBar": true,
   "skip_h1_title": false,
   "title_cell": "Table of Contents",
   "title_sidebar": "Contents",
   "toc_cell": false,
   "toc_position": {},
   "toc_section_display": true,
   "toc_window_display": true
  }
 },
 "nbformat": 4,
 "nbformat_minor": 2
}
